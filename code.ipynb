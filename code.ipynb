{
 "cells": [
  {
   "attachments": {},
   "cell_type": "markdown",
   "metadata": {},
   "source": [
    "## hotel booking\n",
    "- cancel: 0,1 thành cancel/ no cancle\n",
    "- chập 3 cột year/ month/ day thành 1, bỏ week\n",
    "- number of children: đổi số thực thành nguyên (Nó vẫn nguyên mà nhỉ)\n",
    "- meal, country đổi từ viết tắt thành chữ hẳn hoi\n",
    "- cái nào k cần thiết bỏ đi"
   ]
  },
  {
   "cell_type": "code",
   "execution_count": 1,
   "metadata": {},
   "outputs": [],
   "source": [
    "def clean_date(year, month, day, fix_month, join_date):\n",
    "    month = fix_month(month)\n",
    "    date = join_date(day, month, year)\n",
    "    return date"
   ]
  },
  {
   "cell_type": "code",
   "execution_count": 3,
   "metadata": {},
   "outputs": [],
   "source": [
    "months = {\n",
    "    'January': 1,\n",
    "    'February': 2,\n",
    "    'March': 3,\n",
    "    'April': 4,\n",
    "    'May': 5,\n",
    "    'June': 6,\n",
    "    'July': 7,\n",
    "    'August': 8,\n",
    "    'September': 9,\n",
    "    'October': 10,\n",
    "    'November': 11,\n",
    "    'December': 12\n",
    "}\n",
    "def fix_month(month):\n",
    "    return str(months[month])"
   ]
  },
  {
   "cell_type": "code",
   "execution_count": 4,
   "metadata": {},
   "outputs": [],
   "source": [
    "def join_date(day, month, year):\n",
    "    return \"/\".join([day, month, year])"
   ]
  },
  {
   "cell_type": "code",
   "execution_count": 5,
   "metadata": {},
   "outputs": [],
   "source": [
    "meals = {\n",
    "    \"BB\": \"Bed & Breakfast\",\n",
    "    \"HB\": \"Half Board\",\n",
    "    \"FB\": \"Full Board\",\n",
    "    \"SC\": \"No Meal Package\",\n",
    "    \"Undefined\": \"No Meal Package\"\n",
    "}\n",
    "def fix_meal(meal): \n",
    "    return meals[meal]"
   ]
  },
  {
   "cell_type": "code",
   "execution_count": 6,
   "metadata": {},
   "outputs": [],
   "source": [
    "countries = {\n",
    "    \"PRT\": \"Portugal\",\n",
    "    \"GBR\": \"United Kingdom\",\n",
    "    \"FRA\":\"France\",\n",
    "    \"ESP\":\"Spain\",\n",
    "    \"DEU\": \"Germany\",\n",
    "    \"USA\": \"United States\"\n",
    "}\n",
    "def fix_country(country):\n",
    "    return countries[country]"
   ]
  },
  {
   "cell_type": "code",
   "execution_count": 7,
   "metadata": {},
   "outputs": [],
   "source": [
    "# import numpy as np\n",
    "# file_path = './Dataset/hotel_booking.csv'\n",
    "# clean_file_path = './Dataset/clean_hotel_booking.csv'\n",
    "\n",
    "# hotel_booking_data = np.loadtxt(file_path, delimiter=',', skiprows=1, dtype=str)\n",
    "\n",
    "# for row in hotel_booking_data:\n",
    "#     if row[13] in countries:\n",
    "#         row[12] = fix_meal(row[12])\n",
    "#         row[13] = fix_country(row[13])\n",
    "#         if row[1] == '0':\n",
    "#             row[1] = 'no cancel'\n",
    "#         else:\n",
    "#             row[1] = 'cancel'\n",
    "#         row[3] = clean_date(row[3], row[4], row[6], fix_month, join_date)\n",
    "\n",
    "# header = 'hotel, is_canceled, lead_time, arrival_date, stays_in_weekend_nights, stays_in_week_nights, adults, children, babies, meal, country, is_repeated_guest'\n",
    "# np.savetxt(clean_file_path, np.column_stack())"
   ]
  },
  {
   "cell_type": "code",
   "execution_count": 8,
   "metadata": {},
   "outputs": [
    {
     "name": "stdout",
     "output_type": "stream",
     "text": [
      "Done\n"
     ]
    }
   ],
   "source": [
    "import csv\n",
    "origin_path = './Dataset/hotel_booking.csv'\n",
    "clean_path = './Dataset/clean_hotel_booking.csv'\n",
    "\n",
    "HEADER = [\"hotel\", \"is_canceled\", \"lead_time\", \"arrival_date\", \"stays_in_weekend_nights\", \"stays_in_week_nights\", \"adults\", \"children\", \"babies\", \"meal\", \"country\", \"is_repeated_guest\"]\n",
    "\n",
    "with open(origin_path, 'r') as f:\n",
    "    reader = csv.reader(f)\n",
    "    header = next(reader)\n",
    "    fw = open(clean_path, 'w')\n",
    "    \n",
    "    writer = csv.writer(fw)\n",
    "    writer.writerow(HEADER)\n",
    "    \n",
    "    for row in reader:\n",
    "        if row[13] in countries:\n",
    "            row[12] = fix_meal(row[12])\n",
    "            row[13] = fix_country(row[13])\n",
    "            if row[1] == '0':\n",
    "                row[1] = 'no cancel'\n",
    "            else:\n",
    "                row[1] = 'cancel'\n",
    "            row[3] = clean_date(row[3], row[4], row[6], fix_month, join_date)\n",
    "            for _ in range(19):\n",
    "                del row[-1]\n",
    "            for _ in range(2):\n",
    "                del row[-2]\n",
    "            for _ in range(3):\n",
    "                del row[4]\n",
    "            writer.writerow(row)\n",
    "    fw.close()\n",
    "    \n",
    "print(\"Done\")"
   ]
  },
  {
   "attachments": {},
   "cell_type": "markdown",
   "metadata": {},
   "source": [
    "## hotel review booking.com\n",
    "- positive review: null -> not reivew, not-null -> có review\n",
    "- numberOfNights: giữ số thôi, bỏ chữ"
   ]
  },
  {
   "cell_type": "markdown",
   "metadata": {},
   "source": []
  }
 ],
 "metadata": {
  "kernelspec": {
   "display_name": "Python 3",
   "language": "python",
   "name": "python3"
  },
  "language_info": {
   "codemirror_mode": {
    "name": "ipython",
    "version": 3
   },
   "file_extension": ".py",
   "mimetype": "text/x-python",
   "name": "python",
   "nbconvert_exporter": "python",
   "pygments_lexer": "ipython3",
   "version": "3.11.1"
  },
  "orig_nbformat": 4
 },
 "nbformat": 4,
 "nbformat_minor": 2
}
