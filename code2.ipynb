{
 "cells": [
  {
   "attachments": {},
   "cell_type": "markdown",
   "metadata": {},
   "source": [
    "## hotel review booking.com\n",
    "- positive review: null -> not reivew, not-null -> có review\n",
    "- numberOfNights: giữ số thôi, bỏ chữ"
   ]
  },
  {
   "cell_type": "code",
   "execution_count": 6,
   "metadata": {},
   "outputs": [
    {
     "name": "stdout",
     "output_type": "stream",
     "text": [
      "Done\n"
     ]
    }
   ],
   "source": [
    "import csv\n",
    "origin_path = './Dataset/La_Veranda_Reviews-2023-01-16.csv'\n",
    "clean_path = './Dataset/Clean_La_Veranda_Reviews-2023-01-16.csv'\n",
    "\n",
    "HEADER = ['Title', 'PositiveReview', 'NegativeReview',\t'Score', 'GuestName', 'GuestCountry', 'RoomType', 'NumberOfNights', 'VisitDate', 'GroupType']\n",
    "\n",
    "with open(origin_path, 'r', encoding='utf-8') as f:\n",
    "    reader = csv.reader(f)\n",
    "    header = next(reader)\n",
    "    fw = open(clean_path, 'w', encoding='utf-8')\n",
    "    \n",
    "    writer = csv.writer(fw)\n",
    "    writer.writerow(HEADER)\n",
    "    \n",
    "    for row in reader:\n",
    "        if row[1] == '':\n",
    "            row[1] = 'Not Reviewed'\n",
    "        else:\n",
    "            row[1] = 'Reviewed'\n",
    "        if row[2] == '':\n",
    "            row[2] = 'Not Reviewed'\n",
    "        else:\n",
    "            row[2] = 'Reviewed'\n",
    "        row[7] = row[7].split()[0]\n",
    "        del row[10]\n",
    "        writer.writerow(row)\n",
    "    fw.close()\n",
    "    \n",
    "print(\"Done\")"
   ]
  }
 ],
 "metadata": {
  "kernelspec": {
   "display_name": "Python 3",
   "language": "python",
   "name": "python3"
  },
  "language_info": {
   "codemirror_mode": {
    "name": "ipython",
    "version": 3
   },
   "file_extension": ".py",
   "mimetype": "text/x-python",
   "name": "python",
   "nbconvert_exporter": "python",
   "pygments_lexer": "ipython3",
   "version": "3.10.5"
  },
  "orig_nbformat": 4
 },
 "nbformat": 4,
 "nbformat_minor": 2
}
